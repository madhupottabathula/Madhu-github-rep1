{
    "cells": [
        {
            "cell_type": "code",
            "execution_count": 15,
            "metadata": {},
            "outputs": [],
            "source": "import pandas as pd\nimport requests\nfrom bs4 import BeautifulSoup"
        },
        {
            "cell_type": "markdown",
            "metadata": {},
            "source": "## Data scraped from website and added tp Data Frame - Sample data from data frame displayed below"
        },
        {
            "cell_type": "code",
            "execution_count": 32,
            "metadata": {},
            "outputs": [
                {
                    "data": {
                        "text/html": "<div>\n<style scoped>\n    .dataframe tbody tr th:only-of-type {\n        vertical-align: middle;\n    }\n\n    .dataframe tbody tr th {\n        vertical-align: top;\n    }\n\n    .dataframe thead th {\n        text-align: right;\n    }\n</style>\n<table border=\"1\" class=\"dataframe\">\n  <thead>\n    <tr style=\"text-align: right;\">\n      <th></th>\n      <th>Postal code</th>\n      <th>Borough</th>\n      <th>Neighborhood</th>\n    </tr>\n  </thead>\n  <tbody>\n    <tr>\n      <th>0</th>\n      <td>M1A</td>\n      <td>Not assigned</td>\n      <td>NaN</td>\n    </tr>\n    <tr>\n      <th>1</th>\n      <td>M2A</td>\n      <td>Not assigned</td>\n      <td>NaN</td>\n    </tr>\n    <tr>\n      <th>2</th>\n      <td>M3A</td>\n      <td>North York</td>\n      <td>Parkwoods</td>\n    </tr>\n    <tr>\n      <th>3</th>\n      <td>M4A</td>\n      <td>North York</td>\n      <td>Victoria Village</td>\n    </tr>\n    <tr>\n      <th>4</th>\n      <td>M5A</td>\n      <td>Downtown Toronto</td>\n      <td>Regent Park / Harbourfront</td>\n    </tr>\n  </tbody>\n</table>\n</div>",
                        "text/plain": "  Postal code           Borough                Neighborhood\n0         M1A      Not assigned                         NaN\n1         M2A      Not assigned                         NaN\n2         M3A        North York                   Parkwoods\n3         M4A        North York            Victoria Village\n4         M5A  Downtown Toronto  Regent Park / Harbourfront"
                    },
                    "execution_count": 32,
                    "metadata": {},
                    "output_type": "execute_result"
                }
            ],
            "source": "url = \"https://en.wikipedia.org/wiki/List_of_postal_codes_of_Canada:_M\"\n\nreqToronto = requests.get(url)\n\nsoupToronto = BeautifulSoup(reqToronto.content,'lxml')\n\ntableToronto = soupToronto.find_all('table')[0]\n\ndfToronto = pd.read_html(str(tableToronto))\n\nToronto_neighborhood=pd.DataFrame(dfToronto[0])\nToronto_neighborhood.head()"
        },
        {
            "cell_type": "code",
            "execution_count": 33,
            "metadata": {},
            "outputs": [
                {
                    "data": {
                        "text/plain": "(180, 3)"
                    },
                    "execution_count": 33,
                    "metadata": {},
                    "output_type": "execute_result"
                }
            ],
            "source": "Toronto_neighborhood.shape"
        },
        {
            "cell_type": "markdown",
            "metadata": {},
            "source": "## Deleting the records with Not assigned Borough from DataFrame: Count of rows in dataframe BEFORE and AFTER deleting the Not assigned Borough"
        },
        {
            "cell_type": "code",
            "execution_count": 34,
            "metadata": {},
            "outputs": [
                {
                    "name": "stdout",
                    "output_type": "stream",
                    "text": "Count of rows in dataframe BEFORE deleting Not assigned Borough:  (180, 3)\nCount of rows in dataframe AFTER deleting Not assigned Borough:  (103, 3)\n"
                }
            ],
            "source": "# Count of rows in dataframe before deleting Not assigned Borough\nprint('Count of rows in dataframe BEFORE deleting Not assigned Borough: ', Toronto_neighborhood.shape)\n# Toronto_neighborhood1 = Toronto_neighborhood.dropna(axis=0, how='any')\nToronto_neighborhood.drop(Toronto_neighborhood.loc[Toronto_neighborhood['Borough']== \"Not assigned\"].index, inplace=True)\n# Count of rows in dataframe after deleting Not assigned Borough\nprint('Count of rows in dataframe AFTER deleting Not assigned Borough: ', Toronto_neighborhood.shape)"
        },
        {
            "cell_type": "markdown",
            "metadata": {},
            "source": "## Sample data from data frame AFTER deleting the Not assigned Borough is displayed below"
        },
        {
            "cell_type": "code",
            "execution_count": 35,
            "metadata": {},
            "outputs": [
                {
                    "data": {
                        "text/html": "<div>\n<style scoped>\n    .dataframe tbody tr th:only-of-type {\n        vertical-align: middle;\n    }\n\n    .dataframe tbody tr th {\n        vertical-align: top;\n    }\n\n    .dataframe thead th {\n        text-align: right;\n    }\n</style>\n<table border=\"1\" class=\"dataframe\">\n  <thead>\n    <tr style=\"text-align: right;\">\n      <th></th>\n      <th>Postal code</th>\n      <th>Borough</th>\n      <th>Neighborhood</th>\n    </tr>\n  </thead>\n  <tbody>\n    <tr>\n      <th>2</th>\n      <td>M3A</td>\n      <td>North York</td>\n      <td>Parkwoods</td>\n    </tr>\n    <tr>\n      <th>3</th>\n      <td>M4A</td>\n      <td>North York</td>\n      <td>Victoria Village</td>\n    </tr>\n    <tr>\n      <th>4</th>\n      <td>M5A</td>\n      <td>Downtown Toronto</td>\n      <td>Regent Park / Harbourfront</td>\n    </tr>\n    <tr>\n      <th>5</th>\n      <td>M6A</td>\n      <td>North York</td>\n      <td>Lawrence Manor / Lawrence Heights</td>\n    </tr>\n    <tr>\n      <th>6</th>\n      <td>M7A</td>\n      <td>Downtown Toronto</td>\n      <td>Queen's Park / Ontario Provincial Government</td>\n    </tr>\n  </tbody>\n</table>\n</div>",
                        "text/plain": "  Postal code           Borough                                  Neighborhood\n2         M3A        North York                                     Parkwoods\n3         M4A        North York                              Victoria Village\n4         M5A  Downtown Toronto                    Regent Park / Harbourfront\n5         M6A        North York             Lawrence Manor / Lawrence Heights\n6         M7A  Downtown Toronto  Queen's Park / Ontario Provincial Government"
                    },
                    "execution_count": 35,
                    "metadata": {},
                    "output_type": "execute_result"
                }
            ],
            "source": "Toronto_neighborhood.head()"
        },
        {
            "cell_type": "markdown",
            "metadata": {},
            "source": "## If a cell has a borough but a Not assigned neighborhood, then the neighborhood will be the same as the borough"
        },
        {
            "cell_type": "code",
            "execution_count": 36,
            "metadata": {},
            "outputs": [
                {
                    "data": {
                        "text/html": "<div>\n<style scoped>\n    .dataframe tbody tr th:only-of-type {\n        vertical-align: middle;\n    }\n\n    .dataframe tbody tr th {\n        vertical-align: top;\n    }\n\n    .dataframe thead th {\n        text-align: right;\n    }\n</style>\n<table border=\"1\" class=\"dataframe\">\n  <thead>\n    <tr style=\"text-align: right;\">\n      <th></th>\n      <th>Postal code</th>\n      <th>Borough</th>\n      <th>Neighborhood</th>\n    </tr>\n  </thead>\n  <tbody>\n    <tr>\n      <th>2</th>\n      <td>M3A</td>\n      <td>North York</td>\n      <td>Parkwoods</td>\n    </tr>\n    <tr>\n      <th>3</th>\n      <td>M4A</td>\n      <td>North York</td>\n      <td>Victoria Village</td>\n    </tr>\n    <tr>\n      <th>4</th>\n      <td>M5A</td>\n      <td>Downtown Toronto</td>\n      <td>Regent Park / Harbourfront</td>\n    </tr>\n    <tr>\n      <th>5</th>\n      <td>M6A</td>\n      <td>North York</td>\n      <td>Lawrence Manor / Lawrence Heights</td>\n    </tr>\n    <tr>\n      <th>6</th>\n      <td>M7A</td>\n      <td>Downtown Toronto</td>\n      <td>Queen's Park / Ontario Provincial Government</td>\n    </tr>\n  </tbody>\n</table>\n</div>",
                        "text/plain": "  Postal code           Borough                                  Neighborhood\n2         M3A        North York                                     Parkwoods\n3         M4A        North York                              Victoria Village\n4         M5A  Downtown Toronto                    Regent Park / Harbourfront\n5         M6A        North York             Lawrence Manor / Lawrence Heights\n6         M7A  Downtown Toronto  Queen's Park / Ontario Provincial Government"
                    },
                    "execution_count": 36,
                    "metadata": {},
                    "output_type": "execute_result"
                }
            ],
            "source": "Toronto_neighborhood['Neighborhood']=Toronto_neighborhood['Neighborhood'].replace('NaN', Toronto_neighborhood['Borough'])\nToronto_neighborhood.head()"
        },
        {
            "cell_type": "markdown",
            "metadata": {},
            "source": "## Combining the duplicate postal codes in to single row."
        },
        {
            "cell_type": "code",
            "execution_count": 37,
            "metadata": {},
            "outputs": [
                {
                    "data": {
                        "text/html": "<div>\n<style scoped>\n    .dataframe tbody tr th:only-of-type {\n        vertical-align: middle;\n    }\n\n    .dataframe tbody tr th {\n        vertical-align: top;\n    }\n\n    .dataframe thead th {\n        text-align: right;\n    }\n</style>\n<table border=\"1\" class=\"dataframe\">\n  <thead>\n    <tr style=\"text-align: right;\">\n      <th></th>\n      <th></th>\n      <th>Neighborhood</th>\n    </tr>\n    <tr>\n      <th>Postal code</th>\n      <th>Borough</th>\n      <th></th>\n    </tr>\n  </thead>\n  <tbody>\n    <tr>\n      <th>M3A</th>\n      <th>North York</th>\n      <td>Parkwoods</td>\n    </tr>\n    <tr>\n      <th>M4A</th>\n      <th>North York</th>\n      <td>Victoria Village</td>\n    </tr>\n    <tr>\n      <th>M5A</th>\n      <th>Downtown Toronto</th>\n      <td>Regent Park / Harbourfront</td>\n    </tr>\n    <tr>\n      <th>M6A</th>\n      <th>North York</th>\n      <td>Lawrence Manor / Lawrence Heights</td>\n    </tr>\n    <tr>\n      <th>M7A</th>\n      <th>Downtown Toronto</th>\n      <td>Queen's Park / Ontario Provincial Government</td>\n    </tr>\n    <tr>\n      <th>M9A</th>\n      <th>Etobicoke</th>\n      <td>Islington Avenue</td>\n    </tr>\n    <tr>\n      <th>M1B</th>\n      <th>Scarborough</th>\n      <td>Malvern / Rouge</td>\n    </tr>\n    <tr>\n      <th>M3B</th>\n      <th>North York</th>\n      <td>Don Mills</td>\n    </tr>\n    <tr>\n      <th>M4B</th>\n      <th>East York</th>\n      <td>Parkview Hill / Woodbine Gardens</td>\n    </tr>\n    <tr>\n      <th>M5B</th>\n      <th>Downtown Toronto</th>\n      <td>Garden District, Ryerson</td>\n    </tr>\n    <tr>\n      <th>M6B</th>\n      <th>North York</th>\n      <td>Glencairn</td>\n    </tr>\n    <tr>\n      <th>M9B</th>\n      <th>Etobicoke</th>\n      <td>West Deane Park / Princess Gardens / Martin Gr...</td>\n    </tr>\n    <tr>\n      <th>M1C</th>\n      <th>Scarborough</th>\n      <td>Rouge Hill / Port Union / Highland Creek</td>\n    </tr>\n    <tr>\n      <th>M3C</th>\n      <th>North York</th>\n      <td>Don Mills</td>\n    </tr>\n    <tr>\n      <th>M4C</th>\n      <th>East York</th>\n      <td>Woodbine Heights</td>\n    </tr>\n    <tr>\n      <th>M5C</th>\n      <th>Downtown Toronto</th>\n      <td>St. James Town</td>\n    </tr>\n    <tr>\n      <th>M6C</th>\n      <th>York</th>\n      <td>Humewood-Cedarvale</td>\n    </tr>\n    <tr>\n      <th>M9C</th>\n      <th>Etobicoke</th>\n      <td>Eringate / Bloordale Gardens / Old Burnhamthor...</td>\n    </tr>\n    <tr>\n      <th>M1E</th>\n      <th>Scarborough</th>\n      <td>Guildwood / Morningside / West Hill</td>\n    </tr>\n    <tr>\n      <th>M4E</th>\n      <th>East Toronto</th>\n      <td>The Beaches</td>\n    </tr>\n    <tr>\n      <th>M5E</th>\n      <th>Downtown Toronto</th>\n      <td>Berczy Park</td>\n    </tr>\n    <tr>\n      <th>M6E</th>\n      <th>York</th>\n      <td>Caledonia-Fairbanks</td>\n    </tr>\n    <tr>\n      <th>M1G</th>\n      <th>Scarborough</th>\n      <td>Woburn</td>\n    </tr>\n    <tr>\n      <th>M4G</th>\n      <th>East York</th>\n      <td>Leaside</td>\n    </tr>\n    <tr>\n      <th>M5G</th>\n      <th>Downtown Toronto</th>\n      <td>Central Bay Street</td>\n    </tr>\n    <tr>\n      <th>M6G</th>\n      <th>Downtown Toronto</th>\n      <td>Christie</td>\n    </tr>\n    <tr>\n      <th>M1H</th>\n      <th>Scarborough</th>\n      <td>Cedarbrae</td>\n    </tr>\n    <tr>\n      <th>M2H</th>\n      <th>North York</th>\n      <td>Hillcrest Village</td>\n    </tr>\n    <tr>\n      <th>M3H</th>\n      <th>North York</th>\n      <td>Bathurst Manor / Wilson Heights / Downsview North</td>\n    </tr>\n    <tr>\n      <th>M4H</th>\n      <th>East York</th>\n      <td>Thorncliffe Park</td>\n    </tr>\n    <tr>\n      <th>...</th>\n      <th>...</th>\n      <td>...</td>\n    </tr>\n    <tr>\n      <th>M4R</th>\n      <th>Central Toronto</th>\n      <td>North Toronto West</td>\n    </tr>\n    <tr>\n      <th>M5R</th>\n      <th>Central Toronto</th>\n      <td>The Annex / North Midtown / Yorkville</td>\n    </tr>\n    <tr>\n      <th>M6R</th>\n      <th>West Toronto</th>\n      <td>Parkdale / Roncesvalles</td>\n    </tr>\n    <tr>\n      <th>M7R</th>\n      <th>Mississauga</th>\n      <td>Canada Post Gateway Processing Centre</td>\n    </tr>\n    <tr>\n      <th>M9R</th>\n      <th>Etobicoke</th>\n      <td>Kingsview Village / St. Phillips / Martin Grov...</td>\n    </tr>\n    <tr>\n      <th>M1S</th>\n      <th>Scarborough</th>\n      <td>Agincourt</td>\n    </tr>\n    <tr>\n      <th>M4S</th>\n      <th>Central Toronto</th>\n      <td>Davisville</td>\n    </tr>\n    <tr>\n      <th>M5S</th>\n      <th>Downtown Toronto</th>\n      <td>University of Toronto / Harbord</td>\n    </tr>\n    <tr>\n      <th>M6S</th>\n      <th>West Toronto</th>\n      <td>Runnymede / Swansea</td>\n    </tr>\n    <tr>\n      <th>M1T</th>\n      <th>Scarborough</th>\n      <td>Clarks Corners / Tam O'Shanter / Sullivan</td>\n    </tr>\n    <tr>\n      <th>M4T</th>\n      <th>Central Toronto</th>\n      <td>Moore Park / Summerhill East</td>\n    </tr>\n    <tr>\n      <th>M5T</th>\n      <th>Downtown Toronto</th>\n      <td>Kensington Market / Chinatown / Grange Park</td>\n    </tr>\n    <tr>\n      <th>M1V</th>\n      <th>Scarborough</th>\n      <td>Milliken / Agincourt North / Steeles East / L'...</td>\n    </tr>\n    <tr>\n      <th>M4V</th>\n      <th>Central Toronto</th>\n      <td>Summerhill West / Rathnelly / South Hill / For...</td>\n    </tr>\n    <tr>\n      <th>M5V</th>\n      <th>Downtown Toronto</th>\n      <td>CN Tower / King and Spadina / Railway Lands / ...</td>\n    </tr>\n    <tr>\n      <th>M8V</th>\n      <th>Etobicoke</th>\n      <td>New Toronto / Mimico South / Humber Bay Shores</td>\n    </tr>\n    <tr>\n      <th>M9V</th>\n      <th>Etobicoke</th>\n      <td>South Steeles / Silverstone / Humbergate / Jam...</td>\n    </tr>\n    <tr>\n      <th>M1W</th>\n      <th>Scarborough</th>\n      <td>Steeles West / L'Amoreaux West</td>\n    </tr>\n    <tr>\n      <th>M4W</th>\n      <th>Downtown Toronto</th>\n      <td>Rosedale</td>\n    </tr>\n    <tr>\n      <th>M5W</th>\n      <th>Downtown Toronto</th>\n      <td>Stn A PO Boxes</td>\n    </tr>\n    <tr>\n      <th>M8W</th>\n      <th>Etobicoke</th>\n      <td>Alderwood / Long Branch</td>\n    </tr>\n    <tr>\n      <th>M9W</th>\n      <th>Etobicoke</th>\n      <td>Northwest</td>\n    </tr>\n    <tr>\n      <th>M1X</th>\n      <th>Scarborough</th>\n      <td>Upper Rouge</td>\n    </tr>\n    <tr>\n      <th>M4X</th>\n      <th>Downtown Toronto</th>\n      <td>St. James Town / Cabbagetown</td>\n    </tr>\n    <tr>\n      <th>M5X</th>\n      <th>Downtown Toronto</th>\n      <td>First Canadian Place / Underground city</td>\n    </tr>\n    <tr>\n      <th>M8X</th>\n      <th>Etobicoke</th>\n      <td>The Kingsway / Montgomery Road / Old Mill North</td>\n    </tr>\n    <tr>\n      <th>M4Y</th>\n      <th>Downtown Toronto</th>\n      <td>Church and Wellesley</td>\n    </tr>\n    <tr>\n      <th>M7Y</th>\n      <th>East Toronto</th>\n      <td>Business reply mail Processing CentrE</td>\n    </tr>\n    <tr>\n      <th>M8Y</th>\n      <th>Etobicoke</th>\n      <td>Old Mill South / King's Mill Park / Sunnylea /...</td>\n    </tr>\n    <tr>\n      <th>M8Z</th>\n      <th>Etobicoke</th>\n      <td>Mimico NW / The Queensway West / South of Bloo...</td>\n    </tr>\n  </tbody>\n</table>\n<p>103 rows \u00d7 1 columns</p>\n</div>",
                        "text/plain": "                                                                   Neighborhood\nPostal code Borough                                                            \nM3A         North York                                                Parkwoods\nM4A         North York                                         Victoria Village\nM5A         Downtown Toronto                         Regent Park / Harbourfront\nM6A         North York                        Lawrence Manor / Lawrence Heights\nM7A         Downtown Toronto       Queen's Park / Ontario Provincial Government\nM9A         Etobicoke                                          Islington Avenue\nM1B         Scarborough                                         Malvern / Rouge\nM3B         North York                                                Don Mills\nM4B         East York                          Parkview Hill / Woodbine Gardens\nM5B         Downtown Toronto                           Garden District, Ryerson\nM6B         North York                                                Glencairn\nM9B         Etobicoke         West Deane Park / Princess Gardens / Martin Gr...\nM1C         Scarborough                Rouge Hill / Port Union / Highland Creek\nM3C         North York                                                Don Mills\nM4C         East York                                          Woodbine Heights\nM5C         Downtown Toronto                                     St. James Town\nM6C         York                                             Humewood-Cedarvale\nM9C         Etobicoke         Eringate / Bloordale Gardens / Old Burnhamthor...\nM1E         Scarborough                     Guildwood / Morningside / West Hill\nM4E         East Toronto                                            The Beaches\nM5E         Downtown Toronto                                        Berczy Park\nM6E         York                                            Caledonia-Fairbanks\nM1G         Scarborough                                                  Woburn\nM4G         East York                                                   Leaside\nM5G         Downtown Toronto                                 Central Bay Street\nM6G         Downtown Toronto                                           Christie\nM1H         Scarborough                                               Cedarbrae\nM2H         North York                                        Hillcrest Village\nM3H         North York        Bathurst Manor / Wilson Heights / Downsview North\nM4H         East York                                          Thorncliffe Park\n...                                                                         ...\nM4R         Central Toronto                                  North Toronto West\nM5R         Central Toronto               The Annex / North Midtown / Yorkville\nM6R         West Toronto                                Parkdale / Roncesvalles\nM7R         Mississauga                   Canada Post Gateway Processing Centre\nM9R         Etobicoke         Kingsview Village / St. Phillips / Martin Grov...\nM1S         Scarborough                                               Agincourt\nM4S         Central Toronto                                          Davisville\nM5S         Downtown Toronto                    University of Toronto / Harbord\nM6S         West Toronto                                    Runnymede / Swansea\nM1T         Scarborough               Clarks Corners / Tam O'Shanter / Sullivan\nM4T         Central Toronto                        Moore Park / Summerhill East\nM5T         Downtown Toronto        Kensington Market / Chinatown / Grange Park\nM1V         Scarborough       Milliken / Agincourt North / Steeles East / L'...\nM4V         Central Toronto   Summerhill West / Rathnelly / South Hill / For...\nM5V         Downtown Toronto  CN Tower / King and Spadina / Railway Lands / ...\nM8V         Etobicoke            New Toronto / Mimico South / Humber Bay Shores\nM9V         Etobicoke         South Steeles / Silverstone / Humbergate / Jam...\nM1W         Scarborough                          Steeles West / L'Amoreaux West\nM4W         Downtown Toronto                                           Rosedale\nM5W         Downtown Toronto                                     Stn A PO Boxes\nM8W         Etobicoke                                   Alderwood / Long Branch\nM9W         Etobicoke                                                 Northwest\nM1X         Scarborough                                             Upper Rouge\nM4X         Downtown Toronto                       St. James Town / Cabbagetown\nM5X         Downtown Toronto            First Canadian Place / Underground city\nM8X         Etobicoke           The Kingsway / Montgomery Road / Old Mill North\nM4Y         Downtown Toronto                               Church and Wellesley\nM7Y         East Toronto                  Business reply mail Processing CentrE\nM8Y         Etobicoke         Old Mill South / King's Mill Park / Sunnylea /...\nM8Z         Etobicoke         Mimico NW / The Queensway West / South of Bloo...\n\n[103 rows x 1 columns]"
                    },
                    "execution_count": 37,
                    "metadata": {},
                    "output_type": "execute_result"
                }
            ],
            "source": "Toronto_neighborhood.groupby(['Postal code','Borough'],sort=False).agg(lambda x: ','.join(x))"
        },
        {
            "cell_type": "markdown",
            "metadata": {},
            "source": "## Last cell of the notebook, .shape method to print the number of rows of the dataframe"
        },
        {
            "cell_type": "code",
            "execution_count": 40,
            "metadata": {},
            "outputs": [
                {
                    "name": "stdout",
                    "output_type": "stream",
                    "text": "Number of rows of the dataframe:  (103, 3)\n"
                }
            ],
            "source": "print(\"Number of rows of the dataframe: \",Toronto_neighborhood.shape)"
        },
        {
            "cell_type": "code",
            "execution_count": null,
            "metadata": {},
            "outputs": [],
            "source": ""
        }
    ],
    "metadata": {
        "kernelspec": {
            "display_name": "Python 3.6",
            "language": "python",
            "name": "python3"
        },
        "language_info": {
            "codemirror_mode": {
                "name": "ipython",
                "version": 3
            },
            "file_extension": ".py",
            "mimetype": "text/x-python",
            "name": "python",
            "nbconvert_exporter": "python",
            "pygments_lexer": "ipython3",
            "version": "3.6.9"
        }
    },
    "nbformat": 4,
    "nbformat_minor": 1
}